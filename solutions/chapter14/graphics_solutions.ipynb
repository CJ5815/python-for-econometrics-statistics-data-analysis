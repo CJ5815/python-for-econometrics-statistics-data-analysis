{
 "cells": [
  {
   "cell_type": "markdown",
   "metadata": {},
   "source": [
    "# Graphics."
   ]
  },
  {
   "cell_type": "code",
   "execution_count": null,
   "metadata": {
    "collapsed": false,
    "jupyter": {
     "outputs_hidden": false
    },
    "pycharm": {
     "name": "#%%\n"
    }
   },
   "outputs": [],
   "source": [
    "from numpy import hstack, sqrt, array, var, mean, logical_and, \\\n",
    "    zeros, ones, dot, squeeze, column_stack\n",
    "from numpy.linalg import lstsq\n",
    "import matplotlib.pyplot as plt\n",
    "import matplotlib.dates as mdates\n",
    "import pandas as pd\n",
    "\n",
    "# Loading and transforming the data\n",
    "sp500_data = pd.read_csv('sp500.csv', index_col=\"Date\", parse_dates=True)\n",
    "ftse_data = pd.read_csv('ftse.csv', index_col=\"Date\", parse_dates=True)\n",
    "sp500 = sp500_data['Adj Close']\n",
    "sp500_dates = sp500_data.index\n",
    "ftse = ftse_data['Adj Close']\n",
    "ftse_dates = ftse_data.index\n"
   ]
  },
  {
   "cell_type": "markdown",
   "metadata": {},
   "source": [
    "## Exercise 1\n"
   ]
  },
  {
   "cell_type": "code",
   "execution_count": null,
   "metadata": {},
   "outputs": [],
   "source": [
    "fig = plt.figure()\n",
    "ax = fig.add_subplot(111)\n",
    "ax.plot(sp500_dates,sp500)\n",
    "fmt = mdates.DateFormatter('%Y')\n",
    "ax.xaxis.set_major_formatter(fmt)\n",
    "fig.autofmt_xdate()\n",
    "plt.draw()    \n"
   ]
  },
  {
   "cell_type": "markdown",
   "metadata": {},
   "source": [
    "## Exercise 2\n"
   ]
  },
  {
   "cell_type": "code",
   "execution_count": null,
   "metadata": {},
   "outputs": [],
   "source": [
    "sp500_rets = sp500.resample(\"W-FRI\").last().pct_change().dropna()\n",
    "ftse_rets = ftse.resample(\"W-FRI\").last().pct_change().dropna()\n",
    "fig = plt.figure()\n",
    "ax = fig.add_subplot(111)\n",
    "ax.hist(sp500_rets)\n",
    "plt.draw()    \n",
    "fig = plt.figure()\n",
    "ax = fig.add_subplot(111)\n",
    "ax.hist(sp500_rets,bins=20)\n",
    "plt.draw()    \n"
   ]
  },
  {
   "cell_type": "markdown",
   "metadata": {},
   "source": [
    "## Exercise 3\n"
   ]
  },
  {
   "cell_type": "code",
   "execution_count": null,
   "metadata": {},
   "outputs": [],
   "source": [
    "bands = [(-1.0,-.02),(-.02,0.0),(0.0,.02),(.02,1.0)]\n",
    "percs = zeros(len(bands))\n",
    "i = 0\n",
    "for b in bands:\n",
    "    percs[i] = mean(logical_and(sp500_rets>b[0],sp500_rets<=b[1]))\n",
    "    i+=1\n",
    "fig = plt.figure()\n",
    "ax = fig.add_subplot(111)\n",
    "labels = ['<-2%','>-2% and <0','>0 and <2%','>2%']\n",
    "ax.pie(percs,labels=labels)\n",
    "plt.draw()\n"
   ]
  },
  {
   "cell_type": "markdown",
   "metadata": {},
   "source": [
    "## Exercise 4\n"
   ]
  },
  {
   "cell_type": "code",
   "execution_count": null,
   "metadata": {},
   "outputs": [],
   "source": [
    "fig = plt.figure()\n",
    "ax = fig.add_subplot(111)\n",
    "ax.scatter(sp500_rets,ftse_rets)\n",
    "ax.set_xlabel('S&P 500 returns')\n",
    "ax.set_ylabel('ftse 100 returns')\n",
    "plt.draw()\n"
   ]
  },
  {
   "cell_type": "markdown",
   "metadata": {},
   "source": [
    "## Exercise 5\n"
   ]
  },
  {
   "cell_type": "code",
   "execution_count": null,
   "metadata": {},
   "outputs": [],
   "source": [
    "x = column_stack((ones(sp500_rets.shape),sp500_rets))\n",
    "y = column_stack((ftse_rets,))\n",
    "x, y\n",
    "out = lstsq(x,y,rcond=None)\n",
    "b = out[0]\n",
    "fig = plt.figure()\n",
    "ax = fig.add_subplot(111)\n",
    "ax.scatter(sp500_rets,ftse_rets)\n",
    "ax.set_xlabel('S&P 500 returns')\n",
    "ax.set_ylabel('FTSE 100 returns')\n",
    "x = ax.get_xlim()\n",
    "x = array(x)\n",
    "x.shape = -1,1\n",
    "x = hstack((ones(x.shape),x))\n",
    "fit = dot(x,b)\n",
    "b = squeeze(b)\n",
    "ax.plot(x[:,1],fit, color='#800000')\n",
    "ax.text(0,-.15,f'y = {b[0]:0.2f} + {b[1]:0.2f}x')\n",
    "plt.draw()\n"
   ]
  },
  {
   "cell_type": "markdown",
   "metadata": {},
   "source": [
    "## Exercise 6\n"
   ]
  },
  {
   "cell_type": "code",
   "execution_count": null,
   "metadata": {},
   "outputs": [],
   "source": [
    "T = sp500_rets.size\n",
    "ewma = zeros((T,2))\n",
    "r = column_stack((sp500_rets,ftse_rets))\n",
    "ewma[0] = var(r,axis=0)\n",
    "for i in range(1,T):\n",
    "    ewma[i] = .97 * ewma[i-1] + .03 * r[i-1]**2\n",
    "ewma = 100*sqrt(252*ewma)\n",
    "fig = plt.figure()\n",
    "ax = fig.add_subplot(111)\n",
    "ax.plot(sp500_rets.index,ewma[:,0], label = 'S&P 500 ewma Vol (Annualized)')\n",
    "ax.plot(ftse_rets.index,ewma[:,1], label = 'ftse 100 ewma Vol (Annualized)')\n",
    "ax.legend(loc=0)\n",
    "ax.set_title('Annualized Volatility (%)')\n",
    "fmt = mdates.DateFormatter('%Y')\n",
    "ax.xaxis.set_major_formatter(fmt)\n",
    "fig.autofmt_xdate()\n",
    "plt.show()    "
   ]
  }
 ],
 "metadata": {
  "kernelspec": {
   "display_name": "Python 3",
   "language": "python",
   "name": "python3"
  },
  "language_info": {
   "codemirror_mode": {
    "name": "ipython",
    "version": 3
   },
   "file_extension": ".py",
   "mimetype": "text/x-python",
   "name": "python",
   "nbconvert_exporter": "python",
   "pygments_lexer": "ipython3",
   "version": "3.7.9"
  }
 },
 "nbformat": 4,
 "nbformat_minor": 4
}